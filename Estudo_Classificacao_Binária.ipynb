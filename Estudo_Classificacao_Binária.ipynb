{
  "nbformat": 4,
  "nbformat_minor": 0,
  "metadata": {
    "colab": {
      "name": "Estudo-Classificacao-Binária.ipynb",
      "provenance": [],
      "collapsed_sections": [],
      "authorship_tag": "ABX9TyN35l5NwSgkJ9mzDkA95QWy",
      "include_colab_link": true
    },
    "kernelspec": {
      "name": "python3",
      "display_name": "Python 3"
    }
  },
  "cells": [
    {
      "cell_type": "markdown",
      "metadata": {
        "id": "view-in-github",
        "colab_type": "text"
      },
      "source": [
        "<a href=\"https://colab.research.google.com/github/henriquehrf/Estudo-Machine-Learning/blob/main/Estudo_Classificacao_Bin%C3%A1ria.ipynb\" target=\"_parent\"><img src=\"https://colab.research.google.com/assets/colab-badge.svg\" alt=\"Open In Colab\"/></a>"
      ]
    },
    {
      "cell_type": "code",
      "metadata": {
        "colab": {
          "base_uri": "https://localhost:8080/"
        },
        "id": "OPxqSUV5CMiw",
        "outputId": "25cd5a37-3ed3-4e8a-c852-d19fdb95da70"
      },
      "source": [
        "from sklearn.svm import LinearSVC\r\n",
        "from sklearn.metrics import accuracy_score\r\n",
        "\r\n",
        "# Identificar porco e cachorro.\r\n",
        "\r\n",
        "# feature\r\n",
        "# pelo longo?\r\n",
        "# perna curta?\r\n",
        "# late ?\r\n",
        "porco1 = [0,1,0]\r\n",
        "porco2 = [0,1,1]\r\n",
        "porco3 = [1,1,0]\r\n",
        "\r\n",
        "cachorro1 = [0,1,1]\r\n",
        "cachorro2 = [1,0,1]\r\n",
        "cachorro3 = [1,1,1]\r\n",
        "\r\n",
        "# 1=> porco, 0 => cachorro\r\n",
        "treino_x = [porco1 ,porco2, porco3, cachorro1, cachorro2, cachorro3]\r\n",
        "treino_y = [1,1,1,0,0,0]\r\n",
        "\r\n",
        "modelo = LinearSVC()\r\n",
        "modelo.fit(treino_x, treino_y)\r\n",
        "\r\n",
        "animal_qualquer1 = [1,1,1] #Tem pelo longo, tem perna curta e late\r\n",
        "animal_qualquer2 = [1,1,0] #Tem pelo longo, tem perna curta e não late\r\n",
        "animal_qualquer3 = [0,1,1] #Não tem pelo longo, tem perna curta e late  - Eh um poraco diferente, este late LOL...\r\n",
        "animal_qualquer4 = [0,0,1] #Não tem pelo longo, não tem perna curta e late\r\n",
        "animal_qualquer5 = [0,0,0] #Não tem pelo longo, não tem perna curta e não late\r\n",
        "resultados = modelo.predict([animal_qualquer1,animal_qualquer2,animal_qualquer3,animal_qualquer4,animal_qualquer5])\r\n",
        "\r\n",
        "for r in resultados:\r\n",
        "  if r == 0:\r\n",
        "    print(\"Cachorro\")\r\n",
        "  else:\r\n",
        "    print(\"Porco\")\r\n",
        "\r\n",
        "#Taxa de acerto - normal\r\n",
        "resultados_correto = [0,1,1,0,1]\r\n",
        "qtd_correto = (resultados == resultados_correto).sum()\r\n",
        "total = len(resultados)\r\n",
        "taxa_acerto  = qtd_correto / total\r\n",
        "print(\"Taxa de acerto é de: %.2f%%\" % (taxa_acerto * 100))\r\n",
        "\r\n",
        "\r\n",
        "#Taxa de acerto - accuracy_score\r\n",
        "taxa_acerto = accuracy_score(resultados, resultados_correto)\r\n",
        "print(\"Taxa de acerto é de: %.2f%%\" % (taxa_acerto * 100))"
      ],
      "execution_count": null,
      "outputs": [
        {
          "output_type": "stream",
          "text": [
            "Cachorro\n",
            "Porco\n",
            "Cachorro\n",
            "Cachorro\n",
            "Porco\n",
            "Taxa de acerto é de: 80.00%\n",
            "Taxa de acerto é de: 80.00%\n"
          ],
          "name": "stdout"
        }
      ]
    },
    {
      "cell_type": "code",
      "metadata": {
        "colab": {
          "base_uri": "https://localhost:8080/"
        },
        "id": "dgyyCv9lUzI9",
        "outputId": "99b8c53f-5cae-4b6b-f20a-95d364e03151"
      },
      "source": [
        "import pandas as pd\r\n",
        "from sklearn.svm import LinearSVC\r\n",
        "from sklearn.metrics import accuracy_score\r\n",
        "\r\n",
        "\r\n",
        "uri = \"https://gist.githubusercontent.com/guilhermesilveira/2d2efa37d66b6c84a722ea627a897ced/raw/10968b997d885cbded1c92938c7a9912ba41c615/tracking.csv\"\r\n",
        "dados = pd.read_csv(uri)\r\n",
        "\r\n",
        "\r\n",
        "mapa = {\r\n",
        "    \r\n",
        "    \"home\" : \"principal\",\r\n",
        "    \"how_it_works\": \"como_funciona\",\r\n",
        "    \"contact\" : \"contato\",\r\n",
        "    \"bought\": \"comprou\"\r\n",
        "}\r\n",
        "dados = dados.rename(columns = mapa)\r\n",
        "\r\n",
        "treino_x = x[:75]\r\n",
        "treino_y = y[:75]\r\n",
        "\r\n",
        "teste_x = x[75:]\r\n",
        "teste_y = y[75:]\r\n",
        "\r\n",
        "print(\"Treino com %d elementos, teste com %d elementos\" % (len(treino_x), len(teste_x)))\r\n",
        "modelo = LinearSVC()\r\n",
        "modelo.fit(treino_x, treino_y)\r\n",
        "\r\n",
        "previsoes = modelo.predict(teste_x)\r\n",
        "taxa_acerto = accuracy_score(teste_y, previsoes)\r\n",
        "print(\"Taxa de acerto é de: %.2f%%\" % (taxa_acerto * 100))\r\n"
      ],
      "execution_count": null,
      "outputs": [
        {
          "output_type": "stream",
          "text": [
            "Treino com 75 elementos, teste com 24 elementos\n",
            "Taxa de acerto é de: 95.83%\n"
          ],
          "name": "stdout"
        }
      ]
    },
    {
      "cell_type": "code",
      "metadata": {
        "id": "_3mxA6pyU4sD",
        "colab": {
          "base_uri": "https://localhost:8080/"
        },
        "outputId": "ab3855a2-2a7c-4530-ebec-35bf3a36f799"
      },
      "source": [
        "import pandas as pd\r\n",
        "import seaborn as sns\r\n",
        "import numpy as np\r\n",
        "from sklearn.model_selection import train_test_split\r\n",
        "from sklearn.svm import LinearSVC\r\n",
        "from sklearn.metrics import accuracy_score\r\n",
        "\r\n",
        "uri = \"https://gist.githubusercontent.com/guilhermesilveira/1b7d5475863c15f484ac495bd70975cf/raw/16aff7a0aee67e7c100a2a48b676a2d2d142f646/projects.csv\"\r\n",
        "dados = pd.read_csv(uri)\r\n",
        "a_renomear = {\r\n",
        "      'expected_hours' : 'horas_esperadas',\r\n",
        "      'price' : 'preco',\r\n",
        "      'unfinished': 'nao_finalizado'\r\n",
        "}\r\n",
        "dados = dados.rename(columns = a_renomear)\r\n",
        "troca = {\r\n",
        "    0 : 1,\r\n",
        "    1 : 0\r\n",
        "}\r\n",
        "dados['finalizado'] = dados.nao_finalizado.map(troca)\r\n",
        "#sns.scatterplot(x=\"horas_esperadas\", y=\"preco\",hue=\"finalizado\", data=dados)\r\n",
        "#sns.relplot(x=\"horas_esperadas\", y=\"preco\",col=\"finalizado\",hue=\"finalizado\", data=dados)\r\n",
        "x = dados[['horas_esperadas', 'preco']]\r\n",
        "y= dados[['finalizado']]\r\n",
        "\r\n",
        "SEED = 20\r\n",
        "\r\n",
        "treino_x, teste_x, treino_y, teste_y = train_test_split(x, y,\r\n",
        "                                                         random_state = SEED, test_size = 0.25,\r\n",
        "                                                         stratify = y)\r\n",
        "print(\"Treinaremos com %d elementos e testaremos com %d elementos\" % (len(treino_x), len(teste_x)))\r\n",
        "\r\n",
        "modelo = LinearSVC()\r\n",
        "modelo.fit(treino_x, treino_y)\r\n",
        "previsoes = modelo.predict(teste_x)\r\n",
        "\r\n",
        "acuracia = accuracy_score(teste_y, previsoes) * 100\r\n",
        "print(\"A acurácia foi %.2f%%\" % acuracia)"
      ],
      "execution_count": 16,
      "outputs": [
        {
          "output_type": "stream",
          "text": [
            "Treinaremos com 1617 elementos e testaremos com 540 elementos\n",
            "A acurácia foi 47.41%\n"
          ],
          "name": "stdout"
        },
        {
          "output_type": "stream",
          "text": [
            "/usr/local/lib/python3.6/dist-packages/sklearn/utils/validation.py:760: DataConversionWarning: A column-vector y was passed when a 1d array was expected. Please change the shape of y to (n_samples, ), for example using ravel().\n",
            "  y = column_or_1d(y, warn=True)\n",
            "/usr/local/lib/python3.6/dist-packages/sklearn/svm/_base.py:947: ConvergenceWarning: Liblinear failed to converge, increase the number of iterations.\n",
            "  \"the number of iterations.\", ConvergenceWarning)\n"
          ],
          "name": "stderr"
        }
      ]
    },
    {
      "cell_type": "code",
      "metadata": {
        "colab": {
          "base_uri": "https://localhost:8080/"
        },
        "id": "Zj2YWPGBzgK0",
        "outputId": "8d365089-7792-4cd9-d44a-f7d86998b5d4"
      },
      "source": [
        "previsoes_de_base = np.ones(540)\r\n",
        "acuracia = accuracy_score(teste_y, previsoes_de_base) * 100\r\n",
        "print(\"A acurácia do algoritmo base line foi %.2f%%\" % acuracia)"
      ],
      "execution_count": 17,
      "outputs": [
        {
          "output_type": "stream",
          "text": [
            "A acurácia foi 52.59%\n"
          ],
          "name": "stdout"
        }
      ]
    },
    {
      "cell_type": "code",
      "metadata": {
        "id": "8pLHJvEt6EUF"
      },
      "source": [
        ""
      ],
      "execution_count": null,
      "outputs": []
    }
  ]
}