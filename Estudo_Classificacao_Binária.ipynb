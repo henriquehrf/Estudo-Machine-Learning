{
  "nbformat": 4,
  "nbformat_minor": 0,
  "metadata": {
    "colab": {
      "name": "Estudo-Classificacao-Binária.ipynb",
      "provenance": [],
      "collapsed_sections": [],
      "authorship_tag": "ABX9TyOumAMxIBPjTITbRn528GYV",
      "include_colab_link": true
    },
    "kernelspec": {
      "name": "python3",
      "display_name": "Python 3"
    }
  },
  "cells": [
    {
      "cell_type": "markdown",
      "metadata": {
        "id": "view-in-github",
        "colab_type": "text"
      },
      "source": [
        "<a href=\"https://colab.research.google.com/github/henriquehrf/Estudo-Machine-Learning/blob/main/Estudo_Classificacao_Bin%C3%A1ria.ipynb\" target=\"_parent\"><img src=\"https://colab.research.google.com/assets/colab-badge.svg\" alt=\"Open In Colab\"/></a>"
      ]
    },
    {
      "cell_type": "code",
      "metadata": {
        "colab": {
          "base_uri": "https://localhost:8080/"
        },
        "id": "OPxqSUV5CMiw",
        "outputId": "25cd5a37-3ed3-4e8a-c852-d19fdb95da70"
      },
      "source": [
        "from sklearn.svm import LinearSVC\r\n",
        "from sklearn.metrics import accuracy_score\r\n",
        "\r\n",
        "# Identificar porco e cachorro.\r\n",
        "\r\n",
        "# feature\r\n",
        "# pelo longo?\r\n",
        "# perna curta?\r\n",
        "# late ?\r\n",
        "porco1 = [0,1,0]\r\n",
        "porco2 = [0,1,1]\r\n",
        "porco3 = [1,1,0]\r\n",
        "\r\n",
        "cachorro1 = [0,1,1]\r\n",
        "cachorro2 = [1,0,1]\r\n",
        "cachorro3 = [1,1,1]\r\n",
        "\r\n",
        "# 1=> porco, 0 => cachorro\r\n",
        "treino_x = [porco1 ,porco2, porco3, cachorro1, cachorro2, cachorro3]\r\n",
        "treino_y = [1,1,1,0,0,0]\r\n",
        "\r\n",
        "modelo = LinearSVC()\r\n",
        "modelo.fit(treino_x, treino_y)\r\n",
        "\r\n",
        "animal_qualquer1 = [1,1,1] #Tem pelo longo, tem perna curta e late\r\n",
        "animal_qualquer2 = [1,1,0] #Tem pelo longo, tem perna curta e não late\r\n",
        "animal_qualquer3 = [0,1,1] #Não tem pelo longo, tem perna curta e late  - Eh um poraco diferente, este late LOL...\r\n",
        "animal_qualquer4 = [0,0,1] #Não tem pelo longo, não tem perna curta e late\r\n",
        "animal_qualquer5 = [0,0,0] #Não tem pelo longo, não tem perna curta e não late\r\n",
        "resultados = modelo.predict([animal_qualquer1,animal_qualquer2,animal_qualquer3,animal_qualquer4,animal_qualquer5])\r\n",
        "\r\n",
        "for r in resultados:\r\n",
        "  if r == 0:\r\n",
        "    print(\"Cachorro\")\r\n",
        "  else:\r\n",
        "    print(\"Porco\")\r\n",
        "\r\n",
        "#Taxa de acerto - normal\r\n",
        "resultados_correto = [0,1,1,0,1]\r\n",
        "qtd_correto = (resultados == resultados_correto).sum()\r\n",
        "total = len(resultados)\r\n",
        "taxa_acerto  = qtd_correto / total\r\n",
        "print(\"Taxa de acerto é de: %.2f%%\" % (taxa_acerto * 100))\r\n",
        "\r\n",
        "\r\n",
        "#Taxa de acerto - accuracy_score\r\n",
        "taxa_acerto = accuracy_score(resultados, resultados_correto)\r\n",
        "print(\"Taxa de acerto é de: %.2f%%\" % (taxa_acerto * 100))"
      ],
      "execution_count": 20,
      "outputs": [
        {
          "output_type": "stream",
          "text": [
            "Cachorro\n",
            "Porco\n",
            "Cachorro\n",
            "Cachorro\n",
            "Porco\n",
            "Taxa de acerto é de: 80.00%\n",
            "Taxa de acerto é de: 80.00%\n"
          ],
          "name": "stdout"
        }
      ]
    },
    {
      "cell_type": "code",
      "metadata": {
        "colab": {
          "base_uri": "https://localhost:8080/"
        },
        "id": "dgyyCv9lUzI9",
        "outputId": "99b8c53f-5cae-4b6b-f20a-95d364e03151"
      },
      "source": [
        "import pandas as pd\r\n",
        "from sklearn.svm import LinearSVC\r\n",
        "from sklearn.metrics import accuracy_score\r\n",
        "\r\n",
        "\r\n",
        "uri = \"https://gist.githubusercontent.com/guilhermesilveira/2d2efa37d66b6c84a722ea627a897ced/raw/10968b997d885cbded1c92938c7a9912ba41c615/tracking.csv\"\r\n",
        "dados = pd.read_csv(uri)\r\n",
        "\r\n",
        "\r\n",
        "mapa = {\r\n",
        "    \r\n",
        "    \"home\" : \"principal\",\r\n",
        "    \"how_it_works\": \"como_funciona\",\r\n",
        "    \"contact\" : \"contato\",\r\n",
        "    \"bought\": \"comprou\"\r\n",
        "}\r\n",
        "dados = dados.rename(columns = mapa)\r\n",
        "\r\n",
        "treino_x = x[:75]\r\n",
        "treino_y = y[:75]\r\n",
        "\r\n",
        "teste_x = x[75:]\r\n",
        "teste_y = y[75:]\r\n",
        "\r\n",
        "print(\"Treino com %d elementos, teste com %d elementos\" % (len(treino_x), len(teste_x)))\r\n",
        "modelo = LinearSVC()\r\n",
        "modelo.fit(treino_x, treino_y)\r\n",
        "\r\n",
        "previsoes = modelo.predict(teste_x)\r\n",
        "taxa_acerto = accuracy_score(teste_y, previsoes)\r\n",
        "print(\"Taxa de acerto é de: %.2f%%\" % (taxa_acerto * 100))\r\n"
      ],
      "execution_count": 21,
      "outputs": [
        {
          "output_type": "stream",
          "text": [
            "Treino com 75 elementos, teste com 24 elementos\n",
            "Taxa de acerto é de: 95.83%\n"
          ],
          "name": "stdout"
        }
      ]
    },
    {
      "cell_type": "code",
      "metadata": {
        "id": "_3mxA6pyU4sD"
      },
      "source": [
        ""
      ],
      "execution_count": null,
      "outputs": []
    }
  ]
}