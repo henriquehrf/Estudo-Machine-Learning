{
  "nbformat": 4,
  "nbformat_minor": 0,
  "metadata": {
    "colab": {
      "name": "Estudo-Classificacao-Binária.ipynb",
      "provenance": [],
      "authorship_tag": "ABX9TyPTONDMsiy2UBHhMtCjWpAi",
      "include_colab_link": true
    },
    "kernelspec": {
      "name": "python3",
      "display_name": "Python 3"
    }
  },
  "cells": [
    {
      "cell_type": "markdown",
      "metadata": {
        "id": "view-in-github",
        "colab_type": "text"
      },
      "source": [
        "<a href=\"https://colab.research.google.com/github/henriquehrf/Estudo-Machine-Learning/blob/main/Estudo_Classificacao_Bin%C3%A1ria.ipynb\" target=\"_parent\"><img src=\"https://colab.research.google.com/assets/colab-badge.svg\" alt=\"Open In Colab\"/></a>"
      ]
    },
    {
      "cell_type": "code",
      "metadata": {
        "colab": {
          "base_uri": "https://localhost:8080/"
        },
        "id": "OPxqSUV5CMiw",
        "outputId": "6628ffcf-a3d9-4e67-bc84-d9f0ed8fd045"
      },
      "source": [
        "print('Henrique')"
      ],
      "execution_count": 1,
      "outputs": [
        {
          "output_type": "stream",
          "text": [
            "Henrique\n"
          ],
          "name": "stdout"
        }
      ]
    }
  ]
}