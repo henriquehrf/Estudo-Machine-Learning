{
  "nbformat": 4,
  "nbformat_minor": 0,
  "metadata": {
    "colab": {
      "name": "Estudo-Classificacao-Binária.ipynb",
      "provenance": [],
      "collapsed_sections": [],
      "authorship_tag": "ABX9TyOXyI9d/I5gMf/ZYlizC+TL",
      "include_colab_link": true
    },
    "kernelspec": {
      "name": "python3",
      "display_name": "Python 3"
    }
  },
  "cells": [
    {
      "cell_type": "markdown",
      "metadata": {
        "id": "view-in-github",
        "colab_type": "text"
      },
      "source": [
        "<a href=\"https://colab.research.google.com/github/henriquehrf/Estudo-Machine-Learning/blob/main/Estudo_Classificacao_Bin%C3%A1ria.ipynb\" target=\"_parent\"><img src=\"https://colab.research.google.com/assets/colab-badge.svg\" alt=\"Open In Colab\"/></a>"
      ]
    },
    {
      "cell_type": "code",
      "metadata": {
        "colab": {
          "base_uri": "https://localhost:8080/"
        },
        "id": "OPxqSUV5CMiw",
        "outputId": "eaba692c-afb9-4e15-b740-ff657853496d"
      },
      "source": [
        "from sklearn.svm import LinearSVC\r\n",
        "from sklearn.metrics import accuracy_score\r\n",
        "\r\n",
        "# Identificar porco e cachorro.\r\n",
        "\r\n",
        "# feature\r\n",
        "# pelo longo?\r\n",
        "# perna curta?\r\n",
        "# late ?\r\n",
        "porco1 = [0,1,0]\r\n",
        "porco2 = [0,1,1]\r\n",
        "porco3 = [1,1,0]\r\n",
        "\r\n",
        "cachorro1 = [0,1,1]\r\n",
        "cachorro2 = [1,0,1]\r\n",
        "cachorro3 = [1,1,1]\r\n",
        "\r\n",
        "# 1=> porco, 0 => cachorro\r\n",
        "treino_x = [porco1 ,porco2, porco3, cachorro1, cachorro2, cachorro3]\r\n",
        "treino_y = [1,1,1,0,0,0]\r\n",
        "\r\n",
        "modelo = LinearSVC()\r\n",
        "modelo.fit(treino_x, treino_y)\r\n",
        "\r\n",
        "animal_qualquer1 = [1,1,1] #Tem pelo longo, tem perna curta e late\r\n",
        "animal_qualquer2 = [1,1,0] #Tem pelo longo, tem perna curta e não late\r\n",
        "animal_qualquer3 = [0,1,1] #Não tem pelo longo, tem perna curta e late  - Eh um poraco diferente, este late LOL...\r\n",
        "animal_qualquer4 = [0,0,1] #Não tem pelo longo, não tem perna curta e late\r\n",
        "animal_qualquer5 = [0,0,0] #Não tem pelo longo, não tem perna curta e não late\r\n",
        "resultados = modelo.predict([animal_qualquer1,animal_qualquer2,animal_qualquer3,animal_qualquer4,animal_qualquer5])\r\n",
        "\r\n",
        "for r in resultados:\r\n",
        "  if r == 0:\r\n",
        "    print(\"Cachorro\")\r\n",
        "  else:\r\n",
        "    print(\"Porco\")\r\n",
        "\r\n",
        "#Taxa de acerto - normal\r\n",
        "resultados_correto = [0,1,1,0,1]\r\n",
        "qtd_correto = (resultados == resultados_correto).sum()\r\n",
        "total = len(resultados)\r\n",
        "taxa_acerto  = qtd_correto / total\r\n",
        "print(\"Taxa de acerto é de: %.2f\" % (taxa_acerto * 100) ,\"%\")\r\n",
        "\r\n",
        "\r\n",
        "#Taxa de acerto - accuracy_score\r\n",
        "taxa_acerto = accuracy_score(resultados, resultados_correto)\r\n",
        "print(\"Taxa de acerto é de: %.2f\" % (taxa_acerto * 100) ,\"%\")"
      ],
      "execution_count": 31,
      "outputs": [
        {
          "output_type": "stream",
          "text": [
            "Cachorro\n",
            "Porco\n",
            "Cachorro\n",
            "Cachorro\n",
            "Porco\n",
            "Taxa de acerto é de: 80.00 %\n",
            "Taxa de acerto é de: 80.00 %\n"
          ],
          "name": "stdout"
        }
      ]
    }
  ]
}